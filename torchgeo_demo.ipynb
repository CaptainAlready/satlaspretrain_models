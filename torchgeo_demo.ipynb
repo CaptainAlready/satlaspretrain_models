{
 "cells": [
  {
   "cell_type": "code",
   "execution_count": 1,
   "id": "2d0f533d-16af-4b24-91f0-31b338c91fcf",
   "metadata": {},
   "outputs": [],
   "source": [
    "# Demo using the torchgeo package to initialize a SatlasPretrain model and finetune\n",
    "# on the UCMerced dataset.\n",
    "#\n",
    "# SETUP - this demo requires a DIFFERENT conda environment than the SatlasPretrain demo\n",
    "# conda create --name torchgeodemo\n",
    "# conda activate torchgeodemo\n",
    "# NOTE: Satlas weights will be a part of the 0.6.0 release and the current version is 0.5.1, so install from git for now.\n",
    "# pip install git+https://github.com/microsoft/torchgeo "
   ]
  },
  {
   "cell_type": "code",
   "execution_count": 3,
   "id": "291fd9c9-66cd-4643-a387-b6a8a7ec7754",
   "metadata": {},
   "outputs": [],
   "source": [
    "import os\n",
    "import torch\n",
    "import tempfile\n",
    "from typing import Optional\n",
    "from lightning.pytorch import Trainer\n",
    "\n",
    "from torchgeo.models import Swin_V2_B_Weights, swin_v2_b\n",
    "from torchgeo.datamodules import UCMercedDataModule\n",
    "from torchgeo.trainers import ClassificationTask"
   ]
  },
  {
   "cell_type": "code",
   "execution_count": 4,
   "id": "3ed5b26a-e461-4258-936a-d26c79d1e4f9",
   "metadata": {},
   "outputs": [],
   "source": [
    "# Experiment Arguments\n",
    "batch_size = 8\n",
    "num_workers = 2\n",
    "max_epochs = 10\n",
    "fast_dev_run = False"
   ]
  },
  {
   "cell_type": "code",
   "execution_count": 5,
   "id": "4bb46a02-8fa4-4e29-8f0d-1c0ce3de10f4",
   "metadata": {},
   "outputs": [],
   "source": [
    "# Torchgeo lightning datamodule to initialize dataset\n",
    "root = os.path.join(tempfile.gettempdir(), \"ucm\")\n",
    "datamodule = UCMercedDataModule(\n",
    "    root=root, batch_size=batch_size, num_workers=num_workers, download=True\n",
    ")"
   ]
  },
  {
   "cell_type": "code",
   "execution_count": 6,
   "id": "aac6a7a3-684a-4f8a-aece-6d4eaa55772e",
   "metadata": {},
   "outputs": [],
   "source": [
    "# Custom ClassificationTask to load in the SatlasPretrain model\n",
    "class SatlasClassificationTask(ClassificationTask):\n",
    "    def configure_models(self):\n",
    "        weights = Swin_V2_B_Weights.SENTINEL2_RGB_SI_SATLAS\n",
    "        self.model = swin_v2_b(weights)\n",
    "\n",
    "        # Replace first layer's input channels with the task's number input channels.\n",
    "        first_layer = self.model.features[0][0]\n",
    "        self.model.features[0][0] = torch.nn.Conv2d(3,\n",
    "                                    first_layer.out_channels,\n",
    "                                    kernel_size=first_layer.kernel_size,\n",
    "                                    stride=first_layer.stride,\n",
    "                                    padding=first_layer.padding,\n",
    "                                    bias=(first_layer.bias is not None))\n",
    "\n",
    "        # Replace last layer's output features with the number classes.\n",
    "        self.model.head = torch.nn.Linear(in_features=1024, out_features=self.hparams[\"num_classes\"], bias=True)"
   ]
  },
  {
   "cell_type": "code",
   "execution_count": 7,
   "id": "b4c09027-6c47-42f6-8d06-e3fbeb9d8cab",
   "metadata": {},
   "outputs": [
    {
     "name": "stderr",
     "output_type": "stream",
     "text": [
      "Downloading: \"https://huggingface.co/torchgeo/swin_v2_b_sentinel2_rgb_satlas/resolve/main/swin_v2_b_sentinel2_rgb_satlas-51471041.pth\" to /Users/piperw/.cache/torch/hub/checkpoints/swin_v2_b_sentinel2_rgb_satlas-51471041.pth\n",
      "100%|███████████████████████████████████████████████████████████████████████████████████████████████████████████████████████████████████████████████████| 336M/336M [00:14<00:00, 24.6MB/s]\n"
     ]
    }
   ],
   "source": [
    "# Initialize the Classifcation Task\n",
    "task = SatlasClassificationTask(num_classes=21)"
   ]
  },
  {
   "cell_type": "code",
   "execution_count": 8,
   "id": "f88e3e92-d30e-48d0-9c74-20efc91f4459",
   "metadata": {},
   "outputs": [
    {
     "name": "stderr",
     "output_type": "stream",
     "text": [
      "GPU available: False, used: False\n",
      "TPU available: False, using: 0 TPU cores\n",
      "IPU available: False, using: 0 IPUs\n",
      "HPU available: False, using: 0 HPUs\n"
     ]
    }
   ],
   "source": [
    "# Initialize the training code.\n",
    "accelerator = \"gpu\" if torch.cuda.is_available() else \"cpu\"\n",
    "default_root_dir = os.path.join(tempfile.gettempdir(), \"experiments\")\n",
    "\n",
    "trainer = Trainer(\n",
    "    accelerator=accelerator,\n",
    "    default_root_dir=default_root_dir,\n",
    "    fast_dev_run=fast_dev_run,\n",
    "    log_every_n_steps=1,\n",
    "    min_epochs=1,\n",
    "    max_epochs=max_epochs,\n",
    ")"
   ]
  },
  {
   "cell_type": "code",
   "execution_count": 9,
   "id": "aa6a6684-cf14-4fa2-b801-f3d35b94519d",
   "metadata": {},
   "outputs": [
    {
     "name": "stderr",
     "output_type": "stream",
     "text": [
      "Missing logger folder: /var/folders/5f/p350t6y12v73c_wcsm2csn7h0000gp/T/experiments/lightning_logs\n"
     ]
    },
    {
     "name": "stdout",
     "output_type": "stream",
     "text": [
      "Downloading https://cdn-lfs.huggingface.co/repos/fe/cf/fecf1e16b43b78d97916708d99b930db9e863bbfb0a0ea4c5ea038cd1390fa4a/06c539ef28703a58fb07bd2837991ac7c48b813b00bb12ac197efd813a18daeb?response-content-disposition=attachment%3B+filename*%3DUTF-8%27%27UCMerced_LandUse.zip%3B+filename%3D%22UCMerced_LandUse.zip%22%3B&response-content-type=application%2Fzip&Expires=1708385017&Policy=eyJTdGF0ZW1lbnQiOlt7IkNvbmRpdGlvbiI6eyJEYXRlTGVzc1RoYW4iOnsiQVdTOkVwb2NoVGltZSI6MTcwODM4NTAxN319LCJSZXNvdXJjZSI6Imh0dHBzOi8vY2RuLWxmcy5odWdnaW5nZmFjZS5jby9yZXBvcy9mZS9jZi9mZWNmMWUxNmI0M2I3OGQ5NzkxNjcwOGQ5OWI5MzBkYjllODYzYmJmYjBhMGVhNGM1ZWEwMzhjZDEzOTBmYTRhLzA2YzUzOWVmMjg3MDNhNThmYjA3YmQyODM3OTkxYWM3YzQ4YjgxM2IwMGJiMTJhYzE5N2VmZDgxM2ExOGRhZWI%7EcmVzcG9uc2UtY29udGVudC1kaXNwb3NpdGlvbj0qJnJlc3BvbnNlLWNvbnRlbnQtdHlwZT0qIn1dfQ__&Signature=CJ64TPAJyJrQFk8QW-s0D0r2InD%7EOBa0HH8aJspgnfbgeaw6dZ4eLpO-54qUPmoPRcS2IuzhJEjOotJ9fkuRgMh3tgR2Ms4IeB46OUF3gH1HLeIyRHQsI3Sh1pvoDrPFr4i3IIL8w5FF1ikr1M9XYpJXBU7fWUaF1HS-PWbQPeJTyylm7O8v3rQ-8fXlkemtT6Y2gpwGhQ%7E1ZCOQXPMornXXS4u5XrN7ls2sUBrcf5n4nmpb4j%7EhMC1Tu-x6y41-BhbvinbEJaL4vXtLfOtgREnG3I1q4Jl1Ml0R%7EaqK4GRfkc8udFFc6BM2wfXmG-CWWgB2zXWl45H%7EYNy1sfhiug__&Key-Pair-Id=KVTP0A1DKRTAX to /var/folders/5f/p350t6y12v73c_wcsm2csn7h0000gp/T/ucm/UCMerced_LandUse.zip\n"
     ]
    },
    {
     "name": "stderr",
     "output_type": "stream",
     "text": [
      "100%|██████████████████████████████████████████████████████████████████████████████████████████████████████████████████████████████████| 332468434/332468434 [00:07<00:00, 43630613.74it/s]\n"
     ]
    },
    {
     "name": "stdout",
     "output_type": "stream",
     "text": [
      "Downloading https://storage.googleapis.com/remote_sensing_representations/uc_merced-train.txt to /var/folders/5f/p350t6y12v73c_wcsm2csn7h0000gp/T/ucm/uc_merced-train.txt\n"
     ]
    },
    {
     "name": "stderr",
     "output_type": "stream",
     "text": [
      "100%|███████████████████████████████████████████████████████████████████████████████████████████████████████████████████████████████████████████| 21736/21736 [00:00<00:00, 1274694.03it/s]"
     ]
    },
    {
     "name": "stdout",
     "output_type": "stream",
     "text": [
      "Downloading https://storage.googleapis.com/remote_sensing_representations/uc_merced-val.txt to /var/folders/5f/p350t6y12v73c_wcsm2csn7h0000gp/T/ucm/uc_merced-val.txt\n"
     ]
    },
    {
     "name": "stderr",
     "output_type": "stream",
     "text": [
      "\n",
      "100%|█████████████████████████████████████████████████████████████████████████████████████████████████████████████████████████████████████████████| 7201/7201 [00:00<00:00, 4159645.10it/s]\n"
     ]
    },
    {
     "name": "stdout",
     "output_type": "stream",
     "text": [
      "Downloading https://storage.googleapis.com/remote_sensing_representations/uc_merced-test.txt to /var/folders/5f/p350t6y12v73c_wcsm2csn7h0000gp/T/ucm/uc_merced-test.txt\n"
     ]
    },
    {
     "name": "stderr",
     "output_type": "stream",
     "text": [
      "100%|█████████████████████████████████████████████████████████████████████████████████████████████████████████████████████████████████████████████| 7260/7260 [00:00<00:00, 5803439.50it/s]\n",
      "\n",
      "  | Name          | Type             | Params\n",
      "---------------------------------------------------\n",
      "0 | criterion     | CrossEntropyLoss | 0     \n",
      "1 | train_metrics | MetricCollection | 0     \n",
      "2 | val_metrics   | MetricCollection | 0     \n",
      "3 | test_metrics  | MetricCollection | 0     \n",
      "4 | model         | SwinTransformer  | 86.9 M\n",
      "---------------------------------------------------\n",
      "86.9 M    Trainable params\n",
      "0         Non-trainable params\n",
      "86.9 M    Total params\n",
      "347.709   Total estimated model params size (MB)\n"
     ]
    },
    {
     "name": "stdout",
     "output_type": "stream",
     "text": [
      "Sanity Checking: |                                                                                                                                                   | 0/? [00:00<?, ?it/s]"
     ]
    },
    {
     "name": "stderr",
     "output_type": "stream",
     "text": [
      "/Users/piperw/opt/anaconda3/envs/torchgeotest/lib/python3.12/site-packages/lightning/pytorch/trainer/connectors/data_connector.py:436: Consider setting `persistent_workers=True` in 'val_dataloader' to speed up the dataloader worker initialization.\n"
     ]
    },
    {
     "name": "stdout",
     "output_type": "stream",
     "text": [
      "                                                                                                                                                                                           \r"
     ]
    },
    {
     "name": "stderr",
     "output_type": "stream",
     "text": [
      "/Users/piperw/opt/anaconda3/envs/torchgeotest/lib/python3.12/site-packages/lightning/pytorch/trainer/connectors/data_connector.py:436: Consider setting `persistent_workers=True` in 'train_dataloader' to speed up the dataloader worker initialization.\n"
     ]
    },
    {
     "name": "stdout",
     "output_type": "stream",
     "text": [
      "Epoch 0:   0%|                                                                                                                                                     | 0/158 [00:00<?, ?it/s]"
     ]
    },
    {
     "name": "stderr",
     "output_type": "stream",
     "text": [
      "/Users/piperw/opt/anaconda3/envs/torchgeotest/lib/python3.12/site-packages/lightning/pytorch/trainer/call.py:54: Detected KeyboardInterrupt, attempting graceful shutdown...\n"
     ]
    }
   ],
   "source": [
    "# Train\n",
    "trainer.fit(model=task, datamodule=datamodule)"
   ]
  },
  {
   "cell_type": "code",
   "execution_count": null,
   "id": "3034caca-1f6b-434d-9e01-6cadf98fb1ac",
   "metadata": {},
   "outputs": [],
   "source": []
  }
 ],
 "metadata": {
  "kernelspec": {
   "display_name": "Python 3 (ipykernel)",
   "language": "python",
   "name": "python3"
  },
  "language_info": {
   "codemirror_mode": {
    "name": "ipython",
    "version": 3
   },
   "file_extension": ".py",
   "mimetype": "text/x-python",
   "name": "python",
   "nbconvert_exporter": "python",
   "pygments_lexer": "ipython3",
   "version": "3.12.0"
  }
 },
 "nbformat": 4,
 "nbformat_minor": 5
}
